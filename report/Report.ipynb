{
 "cells": [
  {
   "cell_type": "markdown",
   "metadata": {},
   "source": [
    "# Импорты"
   ]
  },
  {
   "cell_type": "code",
   "execution_count": 1,
   "metadata": {
    "collapsed": true
   },
   "outputs": [],
   "source": [
    "import pandas as pd\n",
    "import matplotlib.pyplot as plt\n",
    "import numpy as np\n",
    "%matplotlib inline"
   ]
  },
  {
   "cell_type": "markdown",
   "metadata": {},
   "source": [
    "# Постановка задачи"
   ]
  },
  {
   "cell_type": "markdown",
   "metadata": {},
   "source": [
    "Задача состоит в построении простой модели сетевого протокола сети под названием TokenRing.\n",
    "Ниже перечислены базовые особенности данного протокола:\n",
    "1. Система состоит из N пронумерованных от 0 до N-1 узлов (потоков). Узлы упорядочены по порядковому номеру. После состояния N-1 следует узел 0, т.е. узлы формируют кольцо. \n",
    "2. Соседние в кольце потоки могут обмениваться пакетами. Обмен возможен только по часовой стрелке. \n",
    "3. Каждый поток, получив пакет от предыдущего, отдает его следующему.\n",
    "4. Пакеты не могут обгонять друг друга.\n",
    "\n",
    "В рамках работы необходимо написать реализацию данного протокола на языке Java; замерить метрики, характеризующие работу алгоритма в зависимости от числа узлов и нагрузки; объяснить выявленные зависимости и при возможности оптимизировать данный протокол. "
   ]
  },
  {
   "cell_type": "markdown",
   "metadata": {},
   "source": [
    "# Описание составленной реализации"
   ]
  },
  {
   "cell_type": "markdown",
   "metadata": {},
   "source": [
    "В рамках работы была построена следующая реализация протокола TokenRing.\n",
    "\n",
    "Базовой сущностью для работы протокола является TokenRing.class.\n",
    "При инициализации экземпляра данного класса в конструктор подаётся количество узлов в протоколе.\n",
    "Экземпляр содержит в себе набор пронумерованных узлов - SimpleNode, и потоков в которых происходит выполнение протокола.\n",
    "\n",
    "SimpleNode - сущность, которая содержит в себе поля: идентификатор, ссылка на следующую SimpleNode и очередь сообщений (в данной реализации используется ConcurrentLinkedQueue).\n",
    "Логика по передаче сообщений находится в методе receiveMessage: если сообщение, которое пришло в узел не предназначено для данного узла, то оно помещается в очередь следующего узла, если прездназначено, то узел выполняет над ним некоторую логику(в текущий момент записывает в специальную коллекцию время, которое прошло между инициализацией сообщения на исходном узле и получением сообщения).\n",
    "\n",
    "Сообщения представлены DTO сущностью - TransportMessage, которая содержит в себе идентификатор узла отправителя, идентификатор узла получателя, содержимое сообщения(payload), а также время инициализации(небольшой костыль сугубо для измерения времени прохождения сообщения внутри топологии узлов).\n",
    "\n",
    "Для отправления сообщения по протоколу TokenRing, составлен Builder - MessageRequest.\n",
    "С помощью методов from/to/with задаются соответственно отправитель/получатель/payload сообщения.\n",
    "Метод execute() создаёт сообщение и помещает его в очередь узла отправителя.\n",
    "\n",
    "Для того, чтобы протокол начал свою работу, необходимо вызвать у TokenRing метод start(), который запустит все потоки для выполнения.\n",
    "Для завершения работы протокола необходимо вызвать метод close()."
   ]
  },
  {
   "cell_type": "markdown",
   "metadata": {},
   "source": [
    "# Исследование зависимости времени прохождения сообщения по топологии от количества узлов"
   ]
  },
  {
   "cell_type": "markdown",
   "metadata": {},
   "source": [
    "Для исследования данной зависимости был проведен ряд тестов.\n",
    "В каждом тесте происходила инциализации TokenRing с заданным числом узлов.\n",
    "Затем в топологию помещалось 10 000 сообщений без получателя для минимальной нагрузки и \"разогрева\" реализации.\n",
    "После этого в TokenRing помещалась 1 000 сообщений, каждое из которых должно было пройти n-1 узлов.\n",
    "При достижении узла получателя сообщение записывало время нахождения в топологии в специальный массив метрик.\n",
    "На основании полученного массива высчитывалось среднее значение и дисперсия времени прохождения.\n",
    "Измерения были проведены для количества узлов от 2 до 35.\n",
    "\n",
    "Данные представлены в файле nodesAmount.csv."
   ]
  },
  {
   "cell_type": "code",
   "execution_count": 15,
   "metadata": {},
   "outputs": [
    {
     "data": {
      "text/html": [
       "<div>\n",
       "<style>\n",
       "    .dataframe thead tr:only-child th {\n",
       "        text-align: right;\n",
       "    }\n",
       "\n",
       "    .dataframe thead th {\n",
       "        text-align: left;\n",
       "    }\n",
       "\n",
       "    .dataframe tbody tr th {\n",
       "        vertical-align: top;\n",
       "    }\n",
       "</style>\n",
       "<table border=\"1\" class=\"dataframe\">\n",
       "  <thead>\n",
       "    <tr style=\"text-align: right;\">\n",
       "      <th></th>\n",
       "      <th>NumNodes</th>\n",
       "      <th>Value</th>\n",
       "      <th>Err</th>\n",
       "    </tr>\n",
       "  </thead>\n",
       "  <tbody>\n",
       "    <tr>\n",
       "      <th>0</th>\n",
       "      <td>2</td>\n",
       "      <td>1.976</td>\n",
       "      <td>0.271424</td>\n",
       "    </tr>\n",
       "    <tr>\n",
       "      <th>1</th>\n",
       "      <td>3</td>\n",
       "      <td>3.898</td>\n",
       "      <td>0.091596</td>\n",
       "    </tr>\n",
       "    <tr>\n",
       "      <th>2</th>\n",
       "      <td>4</td>\n",
       "      <td>1.000</td>\n",
       "      <td>0.000000</td>\n",
       "    </tr>\n",
       "    <tr>\n",
       "      <th>3</th>\n",
       "      <td>5</td>\n",
       "      <td>0.206</td>\n",
       "      <td>0.163564</td>\n",
       "    </tr>\n",
       "    <tr>\n",
       "      <th>4</th>\n",
       "      <td>6</td>\n",
       "      <td>3.000</td>\n",
       "      <td>0.000000</td>\n",
       "    </tr>\n",
       "  </tbody>\n",
       "</table>\n",
       "</div>"
      ],
      "text/plain": [
       "   NumNodes  Value       Err\n",
       "0         2  1.976  0.271424\n",
       "1         3  3.898  0.091596\n",
       "2         4  1.000  0.000000\n",
       "3         5  0.206  0.163564\n",
       "4         6  3.000  0.000000"
      ]
     },
     "execution_count": 15,
     "metadata": {},
     "output_type": "execute_result"
    }
   ],
   "source": [
    "nodes_data = pd.read_csv('nodesAmount.csv', sep=';')\n",
    "nodes_data.head()"
   ]
  },
  {
   "cell_type": "markdown",
   "metadata": {},
   "source": [
    "Ниже представлен график зависимости времени прохождения сообщения по топологии от числа узлов."
   ]
  },
  {
   "cell_type": "code",
   "execution_count": 11,
   "metadata": {},
   "outputs": [
    {
     "data": {
      "image/png": "[encoded data removed]",
      "text/plain": [
       "<matplotlib.figure.Figure at 0x1f24ecca5c0>"
      ]
     },
     "metadata": {},
     "output_type": "display_data"
    }
   ],
   "source": [
    "nodes_data_plot = nodes_data.plot('NumNodes', 'Value', title='Nodes Dependency', figsize=[10,5])\n",
    "nodes_data_plot.set(xlabel='Nodes number', ylabel='Time(ms)')\n",
    "plt.show()"
   ]
  },
  {
   "cell_type": "markdown",
   "metadata": {},
   "source": [
    "По результатам эксперимента видно, что при количестве узлов меньше 10 сообщения проходят по кольцу за несколько миллисекунд.\n",
    "Далее начинается сильное падение производительности (при количестве узлов более 28, сообщение проходит по кольцу более чем за секунду).\n",
    "\n",
    "В качестве причин падения производительности можно привести следующие причины:\n",
    "\n",
    "1) С ростом числа потоков на поддержание работы приложения требуется больше ресурсов; так как вычисления происходят на 4х ядерном процессоре, при маленьком числе потоков происходит фактическое распараллеливание работы, при числе потоков больше 10 прирост производительности от числа потоков падает, а расходы ресурсов на поддержание и переключение виртуальных потоков растут.\n",
    "\n",
    "2) Чем больше потоков, тем больше раз нужно передать сообщение, чтобы оно дошло до получателя.\n",
    "\n",
    "3) Ввиду того, что нагрузка между потоками не распределена равномерно, в очереди одного узла может скопится большое число сообщений, но при этом поток, \"обслуживающий\" данный узел будет ожидать освобождения ресурсов другими потоками. Чем больше число узлов, тем более вероятно возникновение задержек такого рода, и следовательно, падение производительности."
   ]
  },
  {
   "cell_type": "markdown",
   "metadata": {},
   "source": [
    "# Исследование зависимости времени прохождения сообщения по топологии от количества узлов"
   ]
  },
  {
   "cell_type": "markdown",
   "metadata": {},
   "source": [
    "Для данного исследования был проведен ряд измерений, аналогичных предыдущим.\n",
    "Отличительной особенностью этих измерений являлось то, что количество узлов являлось фиксированным и равным 8(число было подобрано по результатам прошлого эксперимента).\n",
    "В качестве изменяемого параметра в данном исследовании выступило количество сообщений без получателя, иными словами нагрузка на топологию.\n",
    "Перед измерениями времени прохождения сообщения по кольцу, в топологию помещалось некоторое число сообщений без получателя, которые бесконечно передвигались по кругу.\n",
    "Измерения были проведены для количества сообщений без получателя от 0 до 10 000 000."
   ]
  },
  {
   "cell_type": "code",
   "execution_count": 28,
   "metadata": {},
   "outputs": [
    {
     "data": {
      "text/html": [
       "<div>\n",
       "<style>\n",
       "    .dataframe thead tr:only-child th {\n",
       "        text-align: right;\n",
       "    }\n",
       "\n",
       "    .dataframe thead th {\n",
       "        text-align: left;\n",
       "    }\n",
       "\n",
       "    .dataframe tbody tr th {\n",
       "        vertical-align: top;\n",
       "    }\n",
       "</style>\n",
       "<table border=\"1\" class=\"dataframe\">\n",
       "  <thead>\n",
       "    <tr style=\"text-align: right;\">\n",
       "      <th></th>\n",
       "      <th>Messages</th>\n",
       "      <th>Value</th>\n",
       "      <th>Err</th>\n",
       "    </tr>\n",
       "  </thead>\n",
       "  <tbody>\n",
       "    <tr>\n",
       "      <th>0</th>\n",
       "      <td>0</td>\n",
       "      <td>0.003</td>\n",
       "      <td>-3.105155e-19</td>\n",
       "    </tr>\n",
       "    <tr>\n",
       "      <th>1</th>\n",
       "      <td>10</td>\n",
       "      <td>0.006</td>\n",
       "      <td>-3.521489e-19</td>\n",
       "    </tr>\n",
       "    <tr>\n",
       "      <th>2</th>\n",
       "      <td>100</td>\n",
       "      <td>0.002</td>\n",
       "      <td>-4.336809e-20</td>\n",
       "    </tr>\n",
       "    <tr>\n",
       "      <th>3</th>\n",
       "      <td>1000</td>\n",
       "      <td>0.010</td>\n",
       "      <td>-3.556183e-19</td>\n",
       "    </tr>\n",
       "    <tr>\n",
       "      <th>4</th>\n",
       "      <td>10000</td>\n",
       "      <td>2.134</td>\n",
       "      <td>1.025846e-16</td>\n",
       "    </tr>\n",
       "    <tr>\n",
       "      <th>5</th>\n",
       "      <td>100000</td>\n",
       "      <td>22.561</td>\n",
       "      <td>5.684342e-17</td>\n",
       "    </tr>\n",
       "    <tr>\n",
       "      <th>6</th>\n",
       "      <td>1000000</td>\n",
       "      <td>192.387</td>\n",
       "      <td>-4.547474e-16</td>\n",
       "    </tr>\n",
       "    <tr>\n",
       "      <th>7</th>\n",
       "      <td>10000000</td>\n",
       "      <td>4829.329</td>\n",
       "      <td>2.764864e-13</td>\n",
       "    </tr>\n",
       "  </tbody>\n",
       "</table>\n",
       "</div>"
      ],
      "text/plain": [
       "   Messages     Value           Err\n",
       "0         0     0.003 -3.105155e-19\n",
       "1        10     0.006 -3.521489e-19\n",
       "2       100     0.002 -4.336809e-20\n",
       "3      1000     0.010 -3.556183e-19\n",
       "4     10000     2.134  1.025846e-16\n",
       "5    100000    22.561  5.684342e-17\n",
       "6   1000000   192.387 -4.547474e-16\n",
       "7  10000000  4829.329  2.764864e-13"
      ]
     },
     "execution_count": 28,
     "metadata": {},
     "output_type": "execute_result"
    }
   ],
   "source": [
    "load_data = pd.read_csv('messagesInRing.csv', sep=';')\n",
    "load_data"
   ]
  },
  {
   "cell_type": "markdown",
   "metadata": {},
   "source": [
    "Ниже представлен график зависимости времени прохождения сообщений по топологии от числа нагрузочных сообщений в логарифмическом масштабе."
   ]
  },
  {
   "cell_type": "code",
   "execution_count": 29,
   "metadata": {},
   "outputs": [
    {
     "name": "stderr",
     "output_type": "stream",
     "text": [
      "C:\\Users\\Maxim\\Anaconda3\\lib\\site-packages\\matplotlib\\axes\\_base.py:2923: UserWarning: Attempted to set non-positive xlimits for log-scale axis; invalid limits will be ignored.\n",
      "  'Attempted to set non-positive xlimits for log-scale axis; '\n"
     ]
    },
    {
     "data": {
      "image/png": "[encoded data removed]",
      "text/plain": [
       "<matplotlib.figure.Figure at 0x1f24ed53438>"
      ]
     },
     "metadata": {},
     "output_type": "display_data"
    }
   ],
   "source": [
    "load_data_plot = load_data.plot('Messages','Value', logx=True, logy=True, title='Load Dependency', figsize=[10,5])\n",
    "load_data_plot.set(xlabel='Messages in Token Ring', ylabel='Time(ms)')\n",
    "plt.show()"
   ]
  },
  {
   "cell_type": "markdown",
   "metadata": {},
   "source": [
    "Из полученных результатов можно сделать вывод, что зависимость времени прохождения от числа сообщений в топологии близка к линейной.\n",
    "Также стоит отметить высокую дисперсию измерений, столь высокую ошибку измерений можно объяснить аналогичным первому исследованию образом - неравномерная нагрузка на узлы/потоки и как следствие неравномерное распределение сообщений по узлам."
   ]
  },
  {
   "cell_type": "markdown",
   "metadata": {},
   "source": [
    "# Исследование зависимости времени прохождения сообщения по топологии от количества узлов при нагрузке"
   ]
  },
  {
   "cell_type": "markdown",
   "metadata": {},
   "source": [
    "В рамках данного исследования был проведён ряд измерений аналогичных первому исследованию.\n",
    "Отличительной особенностью этих измерений является число нагрузочных сообщений.\n",
    "Если при первом эксперименте число нагрузочных сообщений составляло 10 000 то в данных измерениях число нагрузочных сообщений составляет 10 000 000.\n",
    "Цель данного эксперимента - выяснить, как влияет число узлов на перегруженную сеть."
   ]
  },
  {
   "cell_type": "code",
   "execution_count": 25,
   "metadata": {},
   "outputs": [
    {
     "data": {
      "text/html": [
       "<div>\n",
       "<style>\n",
       "    .dataframe thead tr:only-child th {\n",
       "        text-align: right;\n",
       "    }\n",
       "\n",
       "    .dataframe thead th {\n",
       "        text-align: left;\n",
       "    }\n",
       "\n",
       "    .dataframe tbody tr th {\n",
       "        vertical-align: top;\n",
       "    }\n",
       "</style>\n",
       "<table border=\"1\" class=\"dataframe\">\n",
       "  <thead>\n",
       "    <tr style=\"text-align: right;\">\n",
       "      <th></th>\n",
       "      <th>NumNodes</th>\n",
       "      <th>Value</th>\n",
       "      <th>Err</th>\n",
       "    </tr>\n",
       "  </thead>\n",
       "  <tbody>\n",
       "    <tr>\n",
       "      <th>0</th>\n",
       "      <td>2</td>\n",
       "      <td>2344.036000</td>\n",
       "      <td>2.052573e+05</td>\n",
       "    </tr>\n",
       "    <tr>\n",
       "      <th>1</th>\n",
       "      <td>4</td>\n",
       "      <td>3523.483000</td>\n",
       "      <td>5.539890e+05</td>\n",
       "    </tr>\n",
       "    <tr>\n",
       "      <th>2</th>\n",
       "      <td>8</td>\n",
       "      <td>4985.135000</td>\n",
       "      <td>1.044122e+06</td>\n",
       "    </tr>\n",
       "    <tr>\n",
       "      <th>3</th>\n",
       "      <td>16</td>\n",
       "      <td>5562.030000</td>\n",
       "      <td>2.054831e+06</td>\n",
       "    </tr>\n",
       "    <tr>\n",
       "      <th>4</th>\n",
       "      <td>26</td>\n",
       "      <td>6279.591592</td>\n",
       "      <td>2.064669e+06</td>\n",
       "    </tr>\n",
       "    <tr>\n",
       "      <th>5</th>\n",
       "      <td>32</td>\n",
       "      <td>7816.428283</td>\n",
       "      <td>3.219393e+06</td>\n",
       "    </tr>\n",
       "    <tr>\n",
       "      <th>6</th>\n",
       "      <td>40</td>\n",
       "      <td>8066.375000</td>\n",
       "      <td>5.816030e+06</td>\n",
       "    </tr>\n",
       "  </tbody>\n",
       "</table>\n",
       "</div>"
      ],
      "text/plain": [
       "   NumNodes        Value           Err\n",
       "0         2  2344.036000  2.052573e+05\n",
       "1         4  3523.483000  5.539890e+05\n",
       "2         8  4985.135000  1.044122e+06\n",
       "3        16  5562.030000  2.054831e+06\n",
       "4        26  6279.591592  2.064669e+06\n",
       "5        32  7816.428283  3.219393e+06\n",
       "6        40  8066.375000  5.816030e+06"
      ]
     },
     "execution_count": 25,
     "metadata": {},
     "output_type": "execute_result"
    }
   ],
   "source": [
    "nodes_under_load = pd.read_csv('nodesUnderLoad.csv', sep=';')\n",
    "nodes_under_load"
   ]
  },
  {
   "cell_type": "code",
   "execution_count": 7,
   "metadata": {},
   "outputs": [
    {
     "data": {
      "image/png": "[encoded data removed]",
      "text/plain": [
       "<matplotlib.figure.Figure at 0x1f24ed99390>"
      ]
     },
     "metadata": {},
     "output_type": "display_data"
    }
   ],
   "source": [
    "nodes_under_load_plot = nodes_under_load.plot('NumNodes','Value', title='Nodes dependency under load', figsize=[10,5])\n",
    "nodes_under_load_plot.set(xlabel='Nodes Number', ylabel='Time(ms)')\n",
    "plt.show()"
   ]
  },
  {
   "cell_type": "markdown",
   "metadata": {
    "collapsed": true
   },
   "source": [
    "По результатам измерений даже при перегруженной сети количество узлов только ухудшает производительность.\n",
    "При этом при каждой серии измерений наблюдается очень высокая дисперсия, что подтверждает гипотезу об итоговом неравномерном распределении сообщений по узлам."
   ]
  },
  {
   "cell_type": "markdown",
   "metadata": {},
   "source": [
    "# Распределение сообщений по узлам"
   ]
  },
  {
   "cell_type": "markdown",
   "metadata": {},
   "source": [
    "Для подтверждения гипотезы о неравномерном распределении сообщений по узлам, был проведён ряд измерений.\n",
    "В топологию с 8 узлами запускался 1 000 000 сообщений, затем эти сообщения проходили по кругу в течении пяти секунд.\n",
    "После этого происходила остановка протокола и считывалось количество сообщений оставшихся в узлах.\n",
    "\n",
    "Результаты, представленные в таблице ниже, подтверждают гипотезу о том, что сообщения в топологии распределены неравномерно."
   ]
  },
  {
   "cell_type": "code",
   "execution_count": 34,
   "metadata": {},
   "outputs": [
    {
     "data": {
      "text/html": [
       "<div>\n",
       "<style>\n",
       "    .dataframe thead tr:only-child th {\n",
       "        text-align: right;\n",
       "    }\n",
       "\n",
       "    .dataframe thead th {\n",
       "        text-align: left;\n",
       "    }\n",
       "\n",
       "    .dataframe tbody tr th {\n",
       "        vertical-align: top;\n",
       "    }\n",
       "</style>\n",
       "<table border=\"1\" class=\"dataframe\">\n",
       "  <thead>\n",
       "    <tr style=\"text-align: right;\">\n",
       "      <th></th>\n",
       "      <th>Node-0</th>\n",
       "      <th>Node-1</th>\n",
       "      <th>Node-2</th>\n",
       "      <th>Node-3</th>\n",
       "      <th>Node-4</th>\n",
       "      <th>Node-5</th>\n",
       "      <th>Node-6</th>\n",
       "      <th>Node-7</th>\n",
       "      <th>Unnamed: 9</th>\n",
       "    </tr>\n",
       "    <tr>\n",
       "      <th>Index</th>\n",
       "      <th></th>\n",
       "      <th></th>\n",
       "      <th></th>\n",
       "      <th></th>\n",
       "      <th></th>\n",
       "      <th></th>\n",
       "      <th></th>\n",
       "      <th></th>\n",
       "      <th></th>\n",
       "    </tr>\n",
       "  </thead>\n",
       "  <tbody>\n",
       "    <tr>\n",
       "      <th>0</th>\n",
       "      <td>0</td>\n",
       "      <td>142057</td>\n",
       "      <td>1</td>\n",
       "      <td>718206</td>\n",
       "      <td>14534</td>\n",
       "      <td>0</td>\n",
       "      <td>53733</td>\n",
       "      <td>71469</td>\n",
       "      <td>NaN</td>\n",
       "    </tr>\n",
       "    <tr>\n",
       "      <th>1</th>\n",
       "      <td>3</td>\n",
       "      <td>1</td>\n",
       "      <td>226264</td>\n",
       "      <td>254483</td>\n",
       "      <td>1</td>\n",
       "      <td>318694</td>\n",
       "      <td>200553</td>\n",
       "      <td>1</td>\n",
       "      <td>NaN</td>\n",
       "    </tr>\n",
       "    <tr>\n",
       "      <th>2</th>\n",
       "      <td>179</td>\n",
       "      <td>297263</td>\n",
       "      <td>23447</td>\n",
       "      <td>2</td>\n",
       "      <td>1097</td>\n",
       "      <td>8275</td>\n",
       "      <td>4</td>\n",
       "      <td>669733</td>\n",
       "      <td>NaN</td>\n",
       "    </tr>\n",
       "    <tr>\n",
       "      <th>3</th>\n",
       "      <td>50566</td>\n",
       "      <td>6702</td>\n",
       "      <td>315</td>\n",
       "      <td>37</td>\n",
       "      <td>1</td>\n",
       "      <td>300754</td>\n",
       "      <td>391071</td>\n",
       "      <td>250554</td>\n",
       "      <td>NaN</td>\n",
       "    </tr>\n",
       "    <tr>\n",
       "      <th>4</th>\n",
       "      <td>35645</td>\n",
       "      <td>272611</td>\n",
       "      <td>216552</td>\n",
       "      <td>110261</td>\n",
       "      <td>122547</td>\n",
       "      <td>150603</td>\n",
       "      <td>32755</td>\n",
       "      <td>59026</td>\n",
       "      <td>NaN</td>\n",
       "    </tr>\n",
       "    <tr>\n",
       "      <th>5</th>\n",
       "      <td>6072</td>\n",
       "      <td>13275</td>\n",
       "      <td>2</td>\n",
       "      <td>27684</td>\n",
       "      <td>371446</td>\n",
       "      <td>199179</td>\n",
       "      <td>382342</td>\n",
       "      <td>0</td>\n",
       "      <td>NaN</td>\n",
       "    </tr>\n",
       "    <tr>\n",
       "      <th>6</th>\n",
       "      <td>97893</td>\n",
       "      <td>0</td>\n",
       "      <td>27</td>\n",
       "      <td>4</td>\n",
       "      <td>336831</td>\n",
       "      <td>107334</td>\n",
       "      <td>364867</td>\n",
       "      <td>93044</td>\n",
       "      <td>NaN</td>\n",
       "    </tr>\n",
       "    <tr>\n",
       "      <th>7</th>\n",
       "      <td>82556</td>\n",
       "      <td>0</td>\n",
       "      <td>2</td>\n",
       "      <td>1</td>\n",
       "      <td>7</td>\n",
       "      <td>4</td>\n",
       "      <td>146645</td>\n",
       "      <td>770785</td>\n",
       "      <td>NaN</td>\n",
       "    </tr>\n",
       "    <tr>\n",
       "      <th>8</th>\n",
       "      <td>1</td>\n",
       "      <td>1</td>\n",
       "      <td>178576</td>\n",
       "      <td>775775</td>\n",
       "      <td>11352</td>\n",
       "      <td>33422</td>\n",
       "      <td>1</td>\n",
       "      <td>872</td>\n",
       "      <td>NaN</td>\n",
       "    </tr>\n",
       "    <tr>\n",
       "      <th>9</th>\n",
       "      <td>171116</td>\n",
       "      <td>15912</td>\n",
       "      <td>1</td>\n",
       "      <td>12165</td>\n",
       "      <td>6934</td>\n",
       "      <td>3</td>\n",
       "      <td>103016</td>\n",
       "      <td>690853</td>\n",
       "      <td>NaN</td>\n",
       "    </tr>\n",
       "  </tbody>\n",
       "</table>\n",
       "</div>"
      ],
      "text/plain": [
       "       Node-0  Node-1  Node-2  Node-3  Node-4  Node-5  Node-6  Node-7  \\\n",
       "Index                                                                   \n",
       "0           0  142057       1  718206   14534       0   53733   71469   \n",
       "1           3       1  226264  254483       1  318694  200553       1   \n",
       "2         179  297263   23447       2    1097    8275       4  669733   \n",
       "3       50566    6702     315      37       1  300754  391071  250554   \n",
       "4       35645  272611  216552  110261  122547  150603   32755   59026   \n",
       "5        6072   13275       2   27684  371446  199179  382342       0   \n",
       "6       97893       0      27       4  336831  107334  364867   93044   \n",
       "7       82556       0       2       1       7       4  146645  770785   \n",
       "8           1       1  178576  775775   11352   33422       1     872   \n",
       "9      171116   15912       1   12165    6934       3  103016  690853   \n",
       "\n",
       "       Unnamed: 9  \n",
       "Index              \n",
       "0             NaN  \n",
       "1             NaN  \n",
       "2             NaN  \n",
       "3             NaN  \n",
       "4             NaN  \n",
       "5             NaN  \n",
       "6             NaN  \n",
       "7             NaN  \n",
       "8             NaN  \n",
       "9             NaN  "
      ]
     },
     "execution_count": 34,
     "metadata": {},
     "output_type": "execute_result"
    }
   ],
   "source": [
    "nodes_distr = pd.read_csv('messagesDistr.csv', sep=\";\", index_col='Index')\n",
    "nodes_distr"
   ]
  },
  {
   "cell_type": "markdown",
   "metadata": {},
   "source": [
    "# Итоги"
   ]
  },
  {
   "cell_type": "markdown",
   "metadata": {},
   "source": [
    "В ходе работы была построена реализация алгоритма TokenRing и выявлен ряд закономерностей данной реализации.\n",
    "\n",
    "1) Задержка между отправлением и получением сообщения растёт с количеством узлов в топологии. При этом на сети с низкой нагрузкой рост задержки наблюдается при большом числе узлов (примерно больше 10).\n",
    "\n",
    "2) При количестве сообщений в топологии превышающем 10 000 наблюдается линейная зависимость между текущим количеством сообщений в топологии и временем задержки.\n",
    "\n",
    "3) При высокой нагрузке (условно 10 000 000 сообщений в топологии) увеличение узлов не приводит к разгрузке топологии и уменьшению времени задержки, а наоборот увеличивает его.\n",
    "\n",
    "Основной причиной негативной корреляции времени задержки и числа узлов (кроме очевидного увеличения пути прохождения сообщения и увеличения расхода ресурсов на работу потоков) предполагается считать неравномерное распределение нагрузки между потоками.\n",
    "Поток с узлом, содержащим большое количество сообщений может ждать освобождения ресурсов от других потоков, которые практически не выполняют никакой работы.\n",
    "\n",
    "Данная проблема является особенностью работы потоков в jvm, а не самого протокола.\n",
    "Для устранения данной проблемы и построения более корректной модели необходимо научиться разделять слабонагруженные узлы от сильнонагруженных  усыплять их для распределения работы."
   ]
  }
 ],
 "metadata": {
  "kernelspec": {
   "display_name": "Python 3",
   "language": "python",
   "name": "python3"
  },
  "language_info": {
   "codemirror_mode": {
    "name": "ipython",
    "version": 3
   },
   "file_extension": ".py",
   "mimetype": "text/x-python",
   "name": "python",
   "nbconvert_exporter": "python",
   "pygments_lexer": "ipython3",
   "version": "3.6.3"
  }
 },
 "nbformat": 4,
 "nbformat_minor": 2
}
